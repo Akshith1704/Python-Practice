{
  "nbformat": 4,
  "nbformat_minor": 0,
  "metadata": {
    "colab": {
      "provenance": [],
      "authorship_tag": "ABX9TyOIX/iqlcp/XaVVGbI0pRYN",
      "include_colab_link": true
    },
    "kernelspec": {
      "name": "python3",
      "display_name": "Python 3"
    },
    "language_info": {
      "name": "python"
    }
  },
  "cells": [
    {
      "cell_type": "markdown",
      "metadata": {
        "id": "view-in-github",
        "colab_type": "text"
      },
      "source": [
        "<a href=\"https://colab.research.google.com/github/Akshith1704/Python-Practice/blob/main/Pandas\" target=\"_parent\"><img src=\"https://colab.research.google.com/assets/colab-badge.svg\" alt=\"Open In Colab\"/></a>"
      ]
    },
    {
      "cell_type": "markdown",
      "source": [
        "Panda's Introduction\n",
        "\n",
        "Pandas is a popular Python library designed to simplify data manipulation and analysis. It provides various functions to help with tasks such as cleaning, exploring, and transforming data. The name \"Pandas\" is derived from \"Panel Data\" and \"Python Data Analysis.\" Wes McKinney developed it in 2008 to address the need for flexible and powerful data analysis tools in Python. Since its inception, Pandas has become an essential tool in the data science ecosystem, offering a wide range of functionalities that streamline data handling processes and make it easier for analysts and scientists to draw meaningful conclusions from their datasets.\n",
        "\n",
        "One of the key strengths of Pandas is its versatility. The library provides robust data structures, such as Series and DataFrame, which allow users to efficiently manage and manipulate data. With Pandas, users can easily determine relationships between different columns, calculate statistical measures like averages, and identify the maximum and minimum values within datasets. Additionally, Pandas excels in data cleaning tasks, enabling users to remove irrelevant rows or those with incorrect or missing values. This ensures that the data is accurate, consistent, and ready for analysis, which is crucial for making informed decisions based on reliable data.\n",
        "\n",
        "Beyond basic data manipulation, Pandas integrates seamlessly with other Python libraries, enhancing its functionality for more complex data analysis tasks. For example, it works well with Matplotlib and Seaborn for data visualization, allowing users to create detailed plots and graphs that provide visual insights into data trends and patterns. Pandas also supports integration with SQL databases, Excel files, and various other data sources, making it a highly adaptable tool for diverse data environments. Overall, Pandas is an indispensable tool for anyone working with data in Python, providing a comprehensive suite of features that make data analysis more efficient and effective.\n",
        "\n",
        "Installation:\n",
        "\n",
        "To install Pandas, you can use the Python package manager pip. Open your command prompt or terminal and enter the following command:\n",
        "\n",
        "\n"
      ],
      "metadata": {
        "id": "lTB5aK_akYq_"
      }
    },
    {
      "cell_type": "code",
      "source": [
        "pip install pandas"
      ],
      "metadata": {
        "id": "vuWwpQbDlT8L"
      },
      "execution_count": null,
      "outputs": []
    },
    {
      "cell_type": "markdown",
      "source": [
        "This command will download and install the Pandas library along with any necessary dependencies, making it ready for use in your Python projects.\n",
        "\n",
        "\n",
        "Pandas import:\n",
        "\n"
      ],
      "metadata": {
        "id": "Q6BiGITelbU8"
      }
    },
    {
      "cell_type": "code",
      "source": [
        "import pandas as pd\n",
        "mydataset = {\n",
        "  'names': [\"Adi\", \"Manu\", \"Tej\", \"Akshith\"],\n",
        "  'ages': [19, 18 , 16, 17],\n",
        "  'cities': [\"Rajhamundary\", \"Hyderabad\", \"Vizag\", \"Wyra\"]\n",
        "}\n",
        "myvar = pd.DataFrame(mydataset)\n",
        "\n",
        "print(myvar)"
      ],
      "metadata": {
        "colab": {
          "base_uri": "https://localhost:8080/"
        },
        "id": "qzCRzUtPlkbr",
        "outputId": "b945fedf-70d6-4d9c-ce9b-ef70a0268d8c"
      },
      "execution_count": 1,
      "outputs": [
        {
          "output_type": "stream",
          "name": "stdout",
          "text": [
            "     names  ages        cities\n",
            "0      Adi    19  Rajhamundary\n",
            "1     Manu    18     Hyderabad\n",
            "2      Tej    16         Vizag\n",
            "3  Akshith    17          Wyra\n"
          ]
        }
      ]
    }
  ]
}
